{
 "cells": [
  {
   "cell_type": "code",
   "execution_count": 1,
   "id": "07c28045",
   "metadata": {},
   "outputs": [],
   "source": [
    "import numpy as np\n",
    "from tqdm import tqdm_notebook as tqdm"
   ]
  },
  {
   "cell_type": "code",
   "execution_count": 2,
   "id": "0ec9bc75",
   "metadata": {},
   "outputs": [],
   "source": [
    "# Base code : https://github.com/mickeykedia/Matrix-Factorization-ALS/blob/master/ALS%20Python%20Implementation.py\n",
    "class AlternatingLeastSquares():\n",
    "    def __init__(self, R, k, reg_param, epochs, verbose=False):\n",
    "        \"\"\"\n",
    "        :param R: rating matrix\n",
    "        :param k: latent parameter\n",
    "        :param learning_rate: alpha on weight update\n",
    "        :param reg_param: beta on weight update\n",
    "        :param epochs: training epochs\n",
    "        :param verbose: print status\n",
    "        \"\"\"\n",
    "        self._R = R\n",
    "        self._num_users, self._num_items = R.shape\n",
    "        self._k = k\n",
    "        self._reg_param = reg_param\n",
    "        self._epochs = epochs\n",
    "        self._verbose = verbose\n",
    "\n",
    "\n",
    "    def fit(self):\n",
    "        # init latent features\n",
    "        self._users = np.random.normal(size=(self._num_users, self._k))\n",
    "        self._items = np.random.normal(size=(self._num_items, self._k))\n",
    "\n",
    "        # train while epochs\n",
    "        self._training_process = []\n",
    "        self._user_error = 0; self._item_error = 0; \n",
    "        for epoch in range(self._epochs):\n",
    "            for i, Ri in enumerate(self._R):\n",
    "                self._users[i] = self.user_latent(i, Ri)\n",
    "                self._user_error = self.cost()\n",
    "                \n",
    "            for j, Rj in enumerate(self._R.T):\n",
    "                self._items[j] = self.item_latent(j, Rj)\n",
    "                self._item_error = self.cost()\n",
    "                \n",
    "            cost = self.cost()\n",
    "            self._training_process.append((epoch, cost))\n",
    "\n",
    "            # print status\n",
    "            if self._verbose == True and ((epoch + 1) % 10 == 0):\n",
    "                print(\"Iteration: %d ; cost = %.4f\" % (epoch + 1, cost))\n",
    "\n",
    "\n",
    "    def cost(self):\n",
    "        \"\"\"\n",
    "        compute root mean square error\n",
    "        :return: rmse cost\n",
    "        \"\"\"\n",
    "        xi, yi = self._R.nonzero()\n",
    "        cost = 0\n",
    "        for x, y in zip(xi, yi):\n",
    "            cost += pow(self._R[x, y] - self.get_prediction(x, y), 2)\n",
    "        return np.sqrt(cost/len(xi))\n",
    "\n",
    "\n",
    "    def user_latent(self, i, Ri):\n",
    "        \"\"\"\n",
    "        :param error: rating - prediction error\n",
    "        :param i: user index\n",
    "        :param Ri: Rating of user index i\n",
    "        :return: convergence value of user latent of i index\n",
    "        \"\"\"\n",
    "\n",
    "        du = np.linalg.solve(np.dot(self._items.T, np.dot(np.diag(Ri), self._items)) + self._reg_param * np.eye(self._k),\n",
    "                                   np.dot(self._items.T, np.dot(np.diag(Ri), self._R[i].T))).T\n",
    "        return du\n",
    "\n",
    "    def item_latent(self, j, Rj):\n",
    "        \"\"\"\n",
    "        :param error: rating - prediction error\n",
    "        :param j: item index\n",
    "        :param Rj: Rating of item index j\n",
    "        :return: convergence value of itemr latent of j index\n",
    "        \"\"\"\n",
    "\n",
    "        di = np.linalg.solve(np.dot(self._users.T, np.dot(np.diag(Rj), self._users)) + self._reg_param * np.eye(self._k),\n",
    "                                 np.dot(self._users.T, np.dot(np.diag(Rj), self._R[:, j])))\n",
    "        return di\n",
    "\n",
    "\n",
    "    def get_prediction(self, i, j):\n",
    "        \"\"\"\n",
    "        get predicted rating: user_i, item_j\n",
    "        :return: prediction of r_ij\n",
    "        \"\"\"\n",
    "        return self._users[i, :].dot(self._items[j, :].T)\n",
    "\n",
    "\n",
    "    def get_complete_matrix(self):\n",
    "        \"\"\"\n",
    "        :return: complete matrix R^\n",
    "        \"\"\"\n",
    "        return self._users.dot(self._items.T)"
   ]
  },
  {
   "cell_type": "code",
   "execution_count": 3,
   "id": "6d49f67a",
   "metadata": {},
   "outputs": [],
   "source": [
    "# run example\n",
    "if __name__ == \"__main__\":\n",
    "    # rating matrix - User X Item : (7 X 5)\n",
    "    R = np.array([\n",
    "        [1, 0, 0, 1, 3],\n",
    "        [2, 0, 3, 1, 1],\n",
    "        [1, 2, 0, 5, 0],\n",
    "        [1, 0, 0, 4, 4],\n",
    "        [2, 1, 5, 4, 0],\n",
    "        [5, 1, 5, 4, 0],\n",
    "        [0, 0, 0, 1, 0],\n",
    "    ])"
   ]
  },
  {
   "cell_type": "code",
   "execution_count": 4,
   "id": "5eb62cd6",
   "metadata": {
    "scrolled": true
   },
   "outputs": [
    {
     "name": "stdout",
     "output_type": "stream",
     "text": [
      "Iteration: 10 ; cost = 0.0108\n",
      "Iteration: 20 ; cost = 0.0076\n",
      "Iteration: 30 ; cost = 0.0060\n",
      "Iteration: 40 ; cost = 0.0049\n",
      "Iteration: 50 ; cost = 0.0042\n",
      "Iteration: 60 ; cost = 0.0038\n",
      "Iteration: 70 ; cost = 0.0036\n",
      "Iteration: 80 ; cost = 0.0034\n",
      "Iteration: 90 ; cost = 0.0033\n",
      "Iteration: 100 ; cost = 0.0032\n"
     ]
    }
   ],
   "source": [
    "als = AlternatingLeastSquares(R = R, reg_param = 0.01, epochs=100, verbose=True, k=3)\n",
    "als.fit()"
   ]
  },
  {
   "cell_type": "code",
   "execution_count": 5,
   "id": "95dce411",
   "metadata": {},
   "outputs": [
    {
     "data": {
      "text/plain": [
       "array([[ 0.99432923,  0.48760777, -0.99670191,  0.99919105,  2.99548567],\n",
       "       [ 2.00151201,  0.06394943,  2.99494385,  0.99658437,  1.00166255],\n",
       "       [ 0.99360676,  1.99856029, -0.81661527,  4.99977343,  2.08471512],\n",
       "       [ 1.00818665,  1.78881932, -2.45171448,  3.99871911,  4.00030852],\n",
       "       [ 2.00101373,  1.0000291 ,  4.99983967,  3.99918866, -1.62999002],\n",
       "       [ 4.99954072,  1.00036573,  5.0012191 ,  4.00088575,  4.81323664],\n",
       "       [ 0.09273929,  0.40155176, -0.19013784,  0.99732654,  0.21756123]])"
      ]
     },
     "execution_count": 5,
     "metadata": {},
     "output_type": "execute_result"
    }
   ],
   "source": [
    "als.get_complete_matrix()"
   ]
  },
  {
   "cell_type": "code",
   "execution_count": null,
   "id": "f3f6e445",
   "metadata": {},
   "outputs": [],
   "source": []
  },
  {
   "cell_type": "code",
   "execution_count": null,
   "id": "61fa7e29",
   "metadata": {},
   "outputs": [],
   "source": []
  }
 ],
 "metadata": {
  "kernelspec": {
   "display_name": "Python 3",
   "language": "python",
   "name": "python3"
  },
  "language_info": {
   "codemirror_mode": {
    "name": "ipython",
    "version": 3
   },
   "file_extension": ".py",
   "mimetype": "text/x-python",
   "name": "python",
   "nbconvert_exporter": "python",
   "pygments_lexer": "ipython3",
   "version": "3.8.5"
  }
 },
 "nbformat": 4,
 "nbformat_minor": 5
}
